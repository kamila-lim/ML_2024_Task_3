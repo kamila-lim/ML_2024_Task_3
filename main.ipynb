{
  "nbformat": 4,
  "nbformat_minor": 0,
  "metadata": {
    "colab": {
      "provenance": []
    },
    "kernelspec": {
      "name": "python3",
      "display_name": "Python 3"
    },
    "language_info": {
      "name": "python"
    }
  },
  "cells": [
    {
      "cell_type": "markdown",
      "source": [
        "**Задание**\n",
        "\n",
        "Построить алгоритмы классификации для решения задачи классификации MNIST.\n",
        "1. Обучить модели (SVM, logisitic regression, decision tree, (дополнительные модели по желанию) на исходных данных;\n",
        "2. Использовать алгоритмы PCA и t-SNE для снижения размерности. Какое количество компонент необходимо, чтобы описать 90% дисперсии в PCA?\n",
        "3. Обучить те же модели на сниженном признаковом пространстве, Какой алгоритм снижения дает лучшие метрики точности моделей классификации? Есть ли улучшение относительно работы моделей на исходном признаковом пространстве?\n",
        "4. Оцените, какое количество времени требуется для препроцессинга PCA и t-SNE"
      ],
      "metadata": {
        "id": "YC8XXpIioayE"
      }
    },
    {
      "cell_type": "code",
      "source": [
        "# Импорт библиотек\n",
        "from sklearn.datasets import load_digits\n",
        "from sklearn.model_selection import train_test_split\n",
        "from sklearn.svm import SVC\n",
        "from sklearn.linear_model import LogisticRegression\n",
        "from sklearn.tree import DecisionTreeClassifier\n",
        "from sklearn.neighbors import KNeighborsClassifier\n",
        "from sklearn.decomposition import PCA\n",
        "from sklearn.manifold import TSNE\n",
        "from sklearn.metrics import classification_report\n",
        "from time import time"
      ],
      "metadata": {
        "id": "sj_O-0pVog1Y"
      },
      "execution_count": 4,
      "outputs": []
    },
    {
      "cell_type": "code",
      "source": [
        "# Загрузка датасета\n",
        "df = load_digits()\n",
        "X = df.data\n",
        "y = df.target\n",
        "\n",
        "# Введение параметров\n",
        "random_state = 42\n",
        "test_size = 0.2\n",
        "max_iter=10000\n",
        "n_neighbors=4"
      ],
      "metadata": {
        "id": "c_zE5WFFpTZQ"
      },
      "execution_count": 5,
      "outputs": []
    },
    {
      "cell_type": "code",
      "source": [
        "#Определение модели\n",
        "models = {\n",
        "    'SVM': SVC(random_state=random_state),\n",
        "    'Logistic regression': LogisticRegression(random_state=random_state,max_iter=max_iter),\n",
        "    'Decision tree': DecisionTreeClassifier(random_state=random_state),\n",
        "    'kNN' :KNeighborsClassifier(n_neighbors=n_neighbors)\n",
        "}"
      ],
      "metadata": {
        "id": "EfO3j_7Nq9GI"
      },
      "execution_count": 6,
      "outputs": []
    },
    {
      "cell_type": "code",
      "source": [
        "X_train, X_test, y_train, y_test = train_test_split(X, y, test_size=test_size,\n",
        "                                                    random_state=random_state)"
      ],
      "metadata": {
        "id": "49p3t5PusFyo"
      },
      "execution_count": 7,
      "outputs": []
    },
    {
      "cell_type": "code",
      "source": [
        "for model_name, model_object in models.items():\n",
        "    model_object.fit(X_train, y_train)\n",
        "    y_predict = model_object.predict(X_test)\n",
        "    print('\\033[1m' + model_name +'\\033[0m', '\\n', classification_report(y_test, y_predict))"
      ],
      "metadata": {
        "colab": {
          "base_uri": "https://localhost:8080/"
        },
        "id": "nFZm0rSJuUP9",
        "outputId": "bb00e220-711b-4d69-f7a0-56b5a26581fb"
      },
      "execution_count": 22,
      "outputs": [
        {
          "output_type": "stream",
          "name": "stdout",
          "text": [
            "\u001b[1mSVM\u001b[0m \n",
            "               precision    recall  f1-score   support\n",
            "\n",
            "           0       1.00      1.00      1.00        33\n",
            "           1       0.97      1.00      0.98        28\n",
            "           2       1.00      0.94      0.97        33\n",
            "           3       0.97      1.00      0.99        34\n",
            "           4       1.00      1.00      1.00        46\n",
            "           5       0.98      0.98      0.98        47\n",
            "           6       0.97      1.00      0.99        35\n",
            "           7       0.92      1.00      0.96        34\n",
            "           8       0.94      0.97      0.95        30\n",
            "           9       1.00      0.88      0.93        40\n",
            "\n",
            "    accuracy                           0.97       360\n",
            "   macro avg       0.97      0.98      0.97       360\n",
            "weighted avg       0.98      0.97      0.97       360\n",
            "\n",
            "\u001b[1mLogistic regression\u001b[0m \n",
            "               precision    recall  f1-score   support\n",
            "\n",
            "           0       1.00      1.00      1.00        33\n",
            "           1       0.59      0.79      0.68        28\n",
            "           2       0.84      0.94      0.89        33\n",
            "           3       0.97      1.00      0.99        34\n",
            "           4       1.00      1.00      1.00        46\n",
            "           5       1.00      0.98      0.99        47\n",
            "           6       0.97      1.00      0.99        35\n",
            "           7       1.00      0.97      0.99        34\n",
            "           8       0.95      0.70      0.81        30\n",
            "           9       0.94      0.82      0.88        40\n",
            "\n",
            "    accuracy                           0.93       360\n",
            "   macro avg       0.93      0.92      0.92       360\n",
            "weighted avg       0.94      0.93      0.93       360\n",
            "\n",
            "\u001b[1mDecision tree\u001b[0m \n",
            "               precision    recall  f1-score   support\n",
            "\n",
            "           0       1.00      1.00      1.00        33\n",
            "           1       0.96      0.96      0.96        28\n",
            "           2       1.00      1.00      1.00        33\n",
            "           3       0.94      1.00      0.97        34\n",
            "           4       0.98      1.00      0.99        46\n",
            "           5       0.98      0.98      0.98        47\n",
            "           6       0.97      0.97      0.97        35\n",
            "           7       1.00      0.94      0.97        34\n",
            "           8       0.97      0.97      0.97        30\n",
            "           9       0.97      0.95      0.96        40\n",
            "\n",
            "    accuracy                           0.98       360\n",
            "   macro avg       0.98      0.98      0.98       360\n",
            "weighted avg       0.98      0.98      0.98       360\n",
            "\n",
            "\u001b[1mkNN\u001b[0m \n",
            "               precision    recall  f1-score   support\n",
            "\n",
            "           0       1.00      1.00      1.00        33\n",
            "           1       0.97      1.00      0.98        28\n",
            "           2       1.00      1.00      1.00        33\n",
            "           3       0.97      1.00      0.99        34\n",
            "           4       0.98      1.00      0.99        46\n",
            "           5       0.98      0.98      0.98        47\n",
            "           6       0.97      1.00      0.99        35\n",
            "           7       1.00      0.97      0.99        34\n",
            "           8       1.00      0.97      0.98        30\n",
            "           9       0.97      0.93      0.95        40\n",
            "\n",
            "    accuracy                           0.98       360\n",
            "   macro avg       0.98      0.98      0.98       360\n",
            "weighted avg       0.98      0.98      0.98       360\n",
            "\n"
          ]
        }
      ]
    },
    {
      "cell_type": "markdown",
      "source": [
        "**Использование алгоритмов PCA и t-SNE для снижения размерности**"
      ],
      "metadata": {
        "id": "bxHRx9BgsWml"
      }
    },
    {
      "cell_type": "code",
      "source": [
        "dimension_reduction_tools = {\n",
        "    'PCA': PCA(n_components=0.90, random_state=random_state),\n",
        "    't-SNE': TSNE(random_state=random_state)\n",
        "}\n",
        "\n",
        "X_processed = {}\n",
        "processing_time = {}\n",
        "for tool_name in dimension_reduction_tools.keys():\n",
        "    start_time = time()\n",
        "\n",
        "    try:\n",
        "        dimension_reduction_tools[tool_name].fit(X)\n",
        "        X_processed[tool_name] = dimension_reduction_tools[\n",
        "            tool_name].transform(X)\n",
        "    except AttributeError:\n",
        "        X_processed[tool_name] = dimension_reduction_tools[\n",
        "            tool_name].fit_transform(X)\n",
        "\n",
        "    processing_time[tool_name] = time() - start_time"
      ],
      "metadata": {
        "id": "auVJdfxAsXaP"
      },
      "execution_count": 9,
      "outputs": []
    },
    {
      "cell_type": "markdown",
      "source": [
        "**Какое количество компонент необходимо, чтобы описать 90% дисперсии в PCA?**"
      ],
      "metadata": {
        "id": "_rlEuGqqsbyX"
      }
    },
    {
      "cell_type": "code",
      "source": [
        "print(dimension_reduction_tools['PCA'].n_components_)"
      ],
      "metadata": {
        "colab": {
          "base_uri": "https://localhost:8080/"
        },
        "id": "hRlcEq_PsZoX",
        "outputId": "ec8fdc9f-dbd3-4ffc-9fc4-607465dc67dc"
      },
      "execution_count": 10,
      "outputs": [
        {
          "output_type": "stream",
          "name": "stdout",
          "text": [
            "21\n"
          ]
        }
      ]
    },
    {
      "cell_type": "markdown",
      "source": [
        "**Обучение тех же моделей на сниженном признаковом пространстве**\n",
        "\n",
        "\n"
      ],
      "metadata": {
        "id": "NCIytMxpsfdI"
      }
    },
    {
      "cell_type": "code",
      "source": [
        "for tool_name, tool in dimension_reduction_tools.items():\n",
        "    print('\\033[4m'+ tool_name+'\\033[0m', '\\n')\n",
        "\n",
        "    X_train, X_test, y_train, y_test = train_test_split(\n",
        "        X_processed[tool_name], y,\n",
        "        test_size=test_size, random_state=random_state)\n",
        "\n",
        "    for model_name, model_object in models.items():\n",
        "        model_object.fit(X_train, y_train)\n",
        "        y_predict = model_object.predict(X_test)\n",
        "        print('\\033[1m' + model_name +'\\033[0m', '\\n', classification_report(y_test, y_predict))"
      ],
      "metadata": {
        "colab": {
          "base_uri": "https://localhost:8080/"
        },
        "id": "MTKJaSyosgTP",
        "outputId": "a1cc97ba-cb80-4d1a-e1b2-4a15320e8cba"
      },
      "execution_count": 21,
      "outputs": [
        {
          "output_type": "stream",
          "name": "stdout",
          "text": [
            "\u001b[4mPCA\u001b[0m \n",
            "\n",
            "\u001b[1mSVM\u001b[0m \n",
            "               precision    recall  f1-score   support\n",
            "\n",
            "           0       1.00      1.00      1.00        33\n",
            "           1       1.00      1.00      1.00        28\n",
            "           2       1.00      1.00      1.00        33\n",
            "           3       1.00      1.00      1.00        34\n",
            "           4       1.00      1.00      1.00        46\n",
            "           5       0.98      0.98      0.98        47\n",
            "           6       0.97      1.00      0.99        35\n",
            "           7       0.97      0.97      0.97        34\n",
            "           8       1.00      0.97      0.98        30\n",
            "           9       0.95      0.95      0.95        40\n",
            "\n",
            "    accuracy                           0.99       360\n",
            "   macro avg       0.99      0.99      0.99       360\n",
            "weighted avg       0.99      0.99      0.99       360\n",
            "\n",
            "\u001b[1mLogistic regression\u001b[0m \n",
            "               precision    recall  f1-score   support\n",
            "\n",
            "           0       0.94      0.97      0.96        33\n",
            "           1       0.90      1.00      0.95        28\n",
            "           2       0.97      0.94      0.95        33\n",
            "           3       0.97      0.97      0.97        34\n",
            "           4       1.00      0.96      0.98        46\n",
            "           5       0.93      0.91      0.92        47\n",
            "           6       0.92      0.97      0.94        35\n",
            "           7       1.00      0.97      0.99        34\n",
            "           8       0.93      0.93      0.93        30\n",
            "           9       0.95      0.93      0.94        40\n",
            "\n",
            "    accuracy                           0.95       360\n",
            "   macro avg       0.95      0.96      0.95       360\n",
            "weighted avg       0.95      0.95      0.95       360\n",
            "\n",
            "\u001b[1mDecision tree\u001b[0m \n",
            "               precision    recall  f1-score   support\n",
            "\n",
            "           0       0.86      0.91      0.88        33\n",
            "           1       0.86      0.89      0.88        28\n",
            "           2       0.91      0.88      0.89        33\n",
            "           3       0.94      0.88      0.91        34\n",
            "           4       1.00      0.96      0.98        46\n",
            "           5       0.88      0.79      0.83        47\n",
            "           6       0.89      0.97      0.93        35\n",
            "           7       0.97      0.94      0.96        34\n",
            "           8       0.68      0.87      0.76        30\n",
            "           9       0.78      0.72      0.75        40\n",
            "\n",
            "    accuracy                           0.88       360\n",
            "   macro avg       0.88      0.88      0.88       360\n",
            "weighted avg       0.88      0.88      0.88       360\n",
            "\n",
            "\u001b[1mkNN\u001b[0m \n",
            "               precision    recall  f1-score   support\n",
            "\n",
            "           0       1.00      1.00      1.00        33\n",
            "           1       0.97      1.00      0.98        28\n",
            "           2       1.00      1.00      1.00        33\n",
            "           3       0.97      1.00      0.99        34\n",
            "           4       0.98      1.00      0.99        46\n",
            "           5       0.98      0.98      0.98        47\n",
            "           6       0.97      1.00      0.99        35\n",
            "           7       1.00      0.97      0.99        34\n",
            "           8       0.97      0.93      0.95        30\n",
            "           9       0.95      0.90      0.92        40\n",
            "\n",
            "    accuracy                           0.98       360\n",
            "   macro avg       0.98      0.98      0.98       360\n",
            "weighted avg       0.98      0.98      0.98       360\n",
            "\n",
            "\u001b[4mt-SNE\u001b[0m \n",
            "\n",
            "\u001b[1mSVM\u001b[0m \n",
            "               precision    recall  f1-score   support\n",
            "\n",
            "           0       1.00      1.00      1.00        33\n",
            "           1       0.97      1.00      0.98        28\n",
            "           2       1.00      0.94      0.97        33\n",
            "           3       0.97      1.00      0.99        34\n",
            "           4       1.00      1.00      1.00        46\n",
            "           5       0.98      0.98      0.98        47\n",
            "           6       0.97      1.00      0.99        35\n",
            "           7       0.92      1.00      0.96        34\n",
            "           8       0.94      0.97      0.95        30\n",
            "           9       1.00      0.88      0.93        40\n",
            "\n",
            "    accuracy                           0.97       360\n",
            "   macro avg       0.97      0.98      0.97       360\n",
            "weighted avg       0.98      0.97      0.97       360\n",
            "\n",
            "\u001b[1mLogistic regression\u001b[0m \n",
            "               precision    recall  f1-score   support\n",
            "\n",
            "           0       1.00      1.00      1.00        33\n",
            "           1       0.59      0.79      0.68        28\n",
            "           2       0.84      0.94      0.89        33\n",
            "           3       0.97      1.00      0.99        34\n",
            "           4       1.00      1.00      1.00        46\n",
            "           5       1.00      0.98      0.99        47\n",
            "           6       0.97      1.00      0.99        35\n",
            "           7       1.00      0.97      0.99        34\n",
            "           8       0.95      0.70      0.81        30\n",
            "           9       0.94      0.82      0.88        40\n",
            "\n",
            "    accuracy                           0.93       360\n",
            "   macro avg       0.93      0.92      0.92       360\n",
            "weighted avg       0.94      0.93      0.93       360\n",
            "\n",
            "\u001b[1mDecision tree\u001b[0m \n",
            "               precision    recall  f1-score   support\n",
            "\n",
            "           0       1.00      1.00      1.00        33\n",
            "           1       0.96      0.96      0.96        28\n",
            "           2       1.00      1.00      1.00        33\n",
            "           3       0.94      1.00      0.97        34\n",
            "           4       0.98      1.00      0.99        46\n",
            "           5       0.98      0.98      0.98        47\n",
            "           6       0.97      0.97      0.97        35\n",
            "           7       1.00      0.94      0.97        34\n",
            "           8       0.97      0.97      0.97        30\n",
            "           9       0.97      0.95      0.96        40\n",
            "\n",
            "    accuracy                           0.98       360\n",
            "   macro avg       0.98      0.98      0.98       360\n",
            "weighted avg       0.98      0.98      0.98       360\n",
            "\n",
            "\u001b[1mkNN\u001b[0m \n",
            "               precision    recall  f1-score   support\n",
            "\n",
            "           0       1.00      1.00      1.00        33\n",
            "           1       0.97      1.00      0.98        28\n",
            "           2       1.00      1.00      1.00        33\n",
            "           3       0.97      1.00      0.99        34\n",
            "           4       0.98      1.00      0.99        46\n",
            "           5       0.98      0.98      0.98        47\n",
            "           6       0.97      1.00      0.99        35\n",
            "           7       1.00      0.97      0.99        34\n",
            "           8       1.00      0.97      0.98        30\n",
            "           9       0.97      0.93      0.95        40\n",
            "\n",
            "    accuracy                           0.98       360\n",
            "   macro avg       0.98      0.98      0.98       360\n",
            "weighted avg       0.98      0.98      0.98       360\n",
            "\n"
          ]
        }
      ]
    },
    {
      "cell_type": "markdown",
      "source": [
        "**Выводы**\n",
        "\n",
        "* Для модели SVM одинаково хорошие результаты вышли при использовании алгоритма PCA. При этом алгоритм t-SNE выдал accuracy такой же как и до уменшения размерности.\n",
        "\n",
        "* Для модели логистической регресии наилучшие результаты получились до уменешения размерности. При этом алгоритм PCA показал результат лучше,чем алгоритм t-SNE.\n",
        "\n",
        "* Для дерева решений оба алгоритма дали улучшение относительно работы моделей на исходном признаковом пространстве.При этом алгоритм t-SNE показал результат лучше,чем алгоритм PCA.\n",
        "\n",
        "* Для kNN модели одинаково хорошие вышли и до уменшения размерности, и при использовании обоих алгаритмов."
      ],
      "metadata": {
        "id": "96FfbhvisiVH"
      }
    },
    {
      "cell_type": "markdown",
      "source": [
        "**Оценка количества времени, которое требуется для препроцессинга PCA и t-SNE**\n",
        "\n"
      ],
      "metadata": {
        "id": "ApqxD9kvsuAf"
      }
    },
    {
      "cell_type": "code",
      "source": [
        "for tool_name, tool_processing_time in processing_time.items():\n",
        "    print(tool_name,round( tool_processing_time,3), 'с')"
      ],
      "metadata": {
        "colab": {
          "base_uri": "https://localhost:8080/"
        },
        "id": "_C3aneIStVG9",
        "outputId": "8a967cad-375f-46e3-89f6-c930b5748377"
      },
      "execution_count": 12,
      "outputs": [
        {
          "output_type": "stream",
          "name": "stdout",
          "text": [
            "PCA 0.06 с\n",
            "t-SNE 25.601 с\n"
          ]
        }
      ]
    }
  ]
}